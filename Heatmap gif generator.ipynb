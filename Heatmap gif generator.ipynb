{
 "cells": [
  {
   "metadata": {
    "ExecuteTime": {
     "end_time": "2024-06-29T23:54:32.724758Z",
     "start_time": "2024-06-29T23:54:32.720966Z"
    }
   },
   "cell_type": "code",
   "source": [
    "import json\n",
    "import folium\n",
    "from folium.plugins import HeatMap\n",
    "from PIL import Image\n",
    "from PIL import ImageDraw\n",
    "from PIL import ImageFont\n",
    "import io\n",
    "import os\n",
    "import imageio\n",
    "from nextbike_functions import *"
   ],
   "id": "2c4a68128fa5e072",
   "outputs": [],
   "execution_count": 62
  },
  {
   "metadata": {
    "ExecuteTime": {
     "end_time": "2024-06-29T23:54:33.641020Z",
     "start_time": "2024-06-29T23:54:33.635644Z"
    }
   },
   "cell_type": "code",
   "source": [
    "def two_hours_forward(timestamp_string: str):\n",
    "    date, time = timestamp_string.split(' ')\n",
    "    year, month, day = date.split('-')\n",
    "    hour, minute, second = time.split(':')\n",
    "    date = datetime.datetime(int(year), int(month), int(day), int(hour), int(minute), int(second))\n",
    "    date += datetime.timedelta(hours=2)\n",
    "    return date"
   ],
   "id": "feee80a7100b022",
   "outputs": [],
   "execution_count": 63
  },
  {
   "metadata": {},
   "cell_type": "markdown",
   "source": "For some reason, function defined above doesn't work, when declared in and imported from external file",
   "id": "2ed8933ea545a2d4"
  },
  {
   "metadata": {
    "ExecuteTime": {
     "end_time": "2024-06-29T23:54:38.129718Z",
     "start_time": "2024-06-29T23:54:35.832950Z"
    }
   },
   "cell_type": "code",
   "source": [
    "data = []\n",
    "timestamp_dictionary = dict()\n",
    "filenames = []\n",
    "\n",
    "i = 0\n",
    "# Extracting stations info for stations in Warsaw\n",
    "with open('json_files/places_and_bikes.json', 'r', encoding='utf8') as file:\n",
    "    for line in file:\n",
    "        data_piece = json.loads(line)\n",
    "        if data_piece['city_uid'] == 812:\n",
    "            timestamp = str(two_hours_forward(data_piece['timestamp']['$date'].replace('T', ' ')[:-1])).replace(':', '.')\n",
    "            if not timestamp in timestamp_dictionary.keys():\n",
    "                timestamp_dictionary[timestamp] = []\n",
    "            timestamp_dictionary[timestamp].append(data_piece)\n"
   ],
   "id": "cb1384f9e003ba61",
   "outputs": [],
   "execution_count": 64
  },
  {
   "metadata": {
    "ExecuteTime": {
     "end_time": "2024-06-29T23:54:39.391587Z",
     "start_time": "2024-06-29T23:54:39.386063Z"
    }
   },
   "cell_type": "code",
   "source": [
    "freestanding_coordinates_data = {}\n",
    "for timestamp, data in timestamp_dictionary.items():\n",
    "    freestanding_coordinates_data[timestamp] = []\n",
    "    for station in data:\n",
    "        if station['bike']:\n",
    "            freestanding_coordinates_data[timestamp].append((station['lat'], station['lng']))"
   ],
   "id": "9f8c246a6428f24d",
   "outputs": [],
   "execution_count": 65
  },
  {
   "metadata": {
    "ExecuteTime": {
     "end_time": "2024-06-29T23:57:16.849509Z",
     "start_time": "2024-06-29T23:55:08.040459Z"
    }
   },
   "cell_type": "code",
   "source": [
    "used_font = ImageFont.truetype('arial.ttf', 30)\n",
    "target_folder = 'heatmaps/'\n",
    "\n",
    "if not os.path.exists(target_folder):\n",
    "    os.mkdir(target_folder)\n",
    "\n",
    "for timestamp, freestanding_coordinates in freestanding_coordinates_data.items():\n",
    "    m = folium.Map(location=[52.2265, 21.0196], zoom_start=14)\n",
    "    HeatMap(freestanding_coordinates).add_to(m)\n",
    "    filename = target_folder + timestamp + '.png'\n",
    "    img_data = m._to_png(5)\n",
    "    img = Image.open(io.BytesIO(img_data))\n",
    "    \n",
    "    I1 = ImageDraw.Draw(img)\n",
    "    I1.text((img.size[0]-350, img.size[1]-80), timestamp, font = used_font, fill = (0, 0, 0))\n",
    "    \n",
    "    img.save(filename)\n",
    "    filenames.append(filename)\n",
    "    print(os.path.basename(filename), \"done\")\n",
    "\n",
    "images = []\n",
    "for filename in filenames:\n",
    "    images.append(imageio.v2.imread(filename))\n",
    "imageio.mimsave('movie.gif', images)"
   ],
   "id": "41719915ac024259",
   "outputs": [
    {
     "name": "stdout",
     "output_type": "stream",
     "text": [
      "2024-06-28 15.05.00.png done\n",
      "2024-06-28 15.10.00.png done\n",
      "2024-06-28 15.15.00.png done\n",
      "2024-06-28 15.20.00.png done\n",
      "2024-06-28 15.25.00.png done\n",
      "2024-06-28 15.30.00.png done\n",
      "2024-06-28 15.35.00.png done\n"
     ]
    }
   ],
   "execution_count": 67
  },
  {
   "metadata": {},
   "cell_type": "code",
   "outputs": [],
   "execution_count": null,
   "source": "",
   "id": "9f948bfb5292b270"
  }
 ],
 "metadata": {
  "kernelspec": {
   "display_name": "Python 3",
   "language": "python",
   "name": "python3"
  },
  "language_info": {
   "codemirror_mode": {
    "name": "ipython",
    "version": 2
   },
   "file_extension": ".py",
   "mimetype": "text/x-python",
   "name": "python",
   "nbconvert_exporter": "python",
   "pygments_lexer": "ipython2",
   "version": "2.7.6"
  }
 },
 "nbformat": 4,
 "nbformat_minor": 5
}
