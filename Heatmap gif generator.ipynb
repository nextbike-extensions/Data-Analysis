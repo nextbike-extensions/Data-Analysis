{
 "cells": [
  {
   "metadata": {
    "ExecuteTime": {
     "end_time": "2024-06-29T23:01:45.864590Z",
     "start_time": "2024-06-29T23:01:45.835306Z"
    }
   },
   "cell_type": "code",
   "source": [
    "import json\n",
    "import folium\n",
    "from folium.plugins import HeatMap\n",
    "from PIL import Image\n",
    "from PIL import ImageDraw\n",
    "from PIL import ImageFont\n",
    "import io\n",
    "import time\n",
    "import imageio\n",
    "import datetime"
   ],
   "id": "2c4a68128fa5e072",
   "outputs": [],
   "execution_count": 6
  },
  {
   "metadata": {
    "ExecuteTime": {
     "end_time": "2024-06-29T23:04:13.565613Z",
     "start_time": "2024-06-29T23:04:10.743639Z"
    }
   },
   "cell_type": "code",
   "source": [
    "data = []\n",
    "ttdict = dict()\n",
    "filenames = []\n",
    "\n",
    "i = 0\n",
    "# Extracting stations info for stations in Warsaw\n",
    "with open('places_and_bikes.json', 'r', encoding='utf8') as file:\n",
    "    for line in file:        \n",
    "        data_piece = json.loads(line)\n",
    "        if data_piece['city_uid'] == 812:\n",
    "            timestamp = data_piece['timestamp']['$date'].replace('T', ' ').replace(':', '.')[:-1]\n",
    "            if not timestamp in ttdict.keys():\n",
    "                ttdict[timestamp] = []\n",
    "            ttdict[timestamp].append(data_piece)"
   ],
   "id": "cb1384f9e003ba61",
   "outputs": [],
   "execution_count": 9
  },
  {
   "metadata": {
    "ExecuteTime": {
     "end_time": "2024-06-29T23:04:15.118184Z",
     "start_time": "2024-06-29T23:04:15.076006Z"
    }
   },
   "cell_type": "code",
   "source": [
    "freestanding_coordinates_data = {}\n",
    "for timestamp, data in ttdict.items():\n",
    "    freestanding_coordinates_data[timestamp] = []\n",
    "    for station in data:\n",
    "        if station['bike']:\n",
    "            freestanding_coordinates_data[timestamp].append((station['lat'], station['lng']))"
   ],
   "id": "9f8c246a6428f24d",
   "outputs": [],
   "execution_count": 10
  },
  {
   "metadata": {
    "ExecuteTime": {
     "end_time": "2024-06-29T23:06:50.638840Z",
     "start_time": "2024-06-29T23:04:39.361113Z"
    }
   },
   "cell_type": "code",
   "source": [
    "used_font = ImageFont.truetype('arial.ttf', 30)\n",
    "\n",
    "for timestamp, freestanding_coordinates in freestanding_coordinates_data.items():\n",
    "    m = folium.Map(location=[52.2265, 21.0196], zoom_start=14.1)\n",
    "    HeatMap(freestanding_coordinates).add_to(m)\n",
    "    filename = timestamp + '.png'\n",
    "    img_data = m._to_png(5)\n",
    "    img = Image.open(io.BytesIO(img_data))\n",
    "    \n",
    "    I1 = ImageDraw.Draw(img)\n",
    "    I1.text((img.size[0]-350, img.size[1]-80), timestamp, font = used_font, fill = (0, 0, 0))\n",
    "    \n",
    "    img.save(filename)\n",
    "    filenames.append(filename)\n",
    "    print(filename, \"done\")\n",
    "\n",
    "images = []\n",
    "for filename in filenames:\n",
    "    images.append(imageio.v2.imread(filename))\n",
    "imageio.mimsave('movie.gif', images)"
   ],
   "id": "41719915ac024259",
   "outputs": [
    {
     "name": "stdout",
     "output_type": "stream",
     "text": [
      "2024-06-28 13.05.00.png done\n",
      "2024-06-28 13.10.00.png done\n",
      "2024-06-28 13.15.00.png done\n",
      "2024-06-28 13.20.00.png done\n",
      "2024-06-28 13.25.00.png done\n",
      "2024-06-28 13.30.00.png done\n",
      "2024-06-28 13.35.00.png done\n"
     ]
    },
    {
     "name": "stderr",
     "output_type": "stream",
     "text": [
      "C:\\Users\\kubas\\AppData\\Local\\Temp\\ipykernel_9272\\2672427036.py:19: DeprecationWarning: Starting with ImageIO v3 the behavior of this function will switch to that of iio.v3.imread. To keep the current behavior (and make this warning disappear) use `import imageio.v2 as imageio` or call `imageio.v2.imread` directly.\n",
      "  images.append(imageio.imread(filename))\n"
     ]
    }
   ],
   "execution_count": 12
  },
  {
   "metadata": {},
   "cell_type": "code",
   "outputs": [],
   "execution_count": null,
   "source": "",
   "id": "bf7a5e9efe57124a"
  }
 ],
 "metadata": {
  "kernelspec": {
   "display_name": "Python 3",
   "language": "python",
   "name": "python3"
  },
  "language_info": {
   "codemirror_mode": {
    "name": "ipython",
    "version": 2
   },
   "file_extension": ".py",
   "mimetype": "text/x-python",
   "name": "python",
   "nbconvert_exporter": "python",
   "pygments_lexer": "ipython2",
   "version": "2.7.6"
  }
 },
 "nbformat": 4,
 "nbformat_minor": 5
}
