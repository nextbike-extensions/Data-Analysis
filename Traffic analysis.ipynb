{
 "cells": [
  {
   "cell_type": "code",
   "id": "initial_id",
   "metadata": {
    "collapsed": true,
    "ExecuteTime": {
     "end_time": "2024-09-13T14:07:25.991677Z",
     "start_time": "2024-09-13T14:07:24.978044Z"
    }
   },
   "source": [
    "import json\n",
    "import datetime\n",
    "import matplotlib.pyplot as plt\n",
    "import matplotlib.ticker as ticker"
   ],
   "outputs": [],
   "execution_count": 1
  },
  {
   "metadata": {
    "ExecuteTime": {
     "end_time": "2024-09-13T14:07:26.970611Z",
     "start_time": "2024-09-13T14:07:26.948759Z"
    }
   },
   "cell_type": "code",
   "source": [
    "def two_hours_forward(timestamp_string: str):\n",
    "    date, time = timestamp_string.split(' ')\n",
    "    year, month, day = date.split('-')\n",
    "    hour, minute, second = time.split(':')\n",
    "    date = datetime.datetime(int(year), int(month), int(day), int(hour), int(minute), int(second))\n",
    "    date += datetime.timedelta(hours=2)\n",
    "    return date"
   ],
   "id": "c62809529dd77550",
   "outputs": [],
   "execution_count": 2
  },
  {
   "metadata": {
    "ExecuteTime": {
     "end_time": "2024-09-13T14:07:27.995820Z",
     "start_time": "2024-09-13T14:07:27.979667Z"
    }
   },
   "cell_type": "code",
   "source": [
    "def get_weekday(timestamp_string: str):\n",
    "    weekday_names_dict = ['monday', 'tuesday', 'wednesday', 'thursday', 'friday', 'saturday', 'sunday']\n",
    "    extracted_date = timestamp_string[:10]\n",
    "    date_list = extracted_date.split('-')\n",
    "    year, month, day = int(date_list[0]), int(date_list[1]) , int(date_list[2])\n",
    "    extracted_date = datetime.datetime(year, month, day)\n",
    "    return weekday_names_dict[extracted_date.weekday()]"
   ],
   "id": "923aaf06181df2f6",
   "outputs": [],
   "execution_count": 3
  },
  {
   "metadata": {
    "ExecuteTime": {
     "end_time": "2024-09-13T14:07:28.471805Z",
     "start_time": "2024-09-13T14:07:28.459484Z"
    }
   },
   "cell_type": "code",
   "source": [
    "def extract_time(timestamp_string: str):\n",
    "    return timestamp_string[11:16].replace('.', ':')"
   ],
   "id": "be65f92068f947fa",
   "outputs": [],
   "execution_count": 4
  },
  {
   "metadata": {
    "ExecuteTime": {
     "end_time": "2024-09-13T14:09:32.401416Z",
     "start_time": "2024-09-13T14:08:31.197866Z"
    }
   },
   "cell_type": "code",
   "source": [
    "timestamp_dictionary = dict()\n",
    "freestanding_bikes = []\n",
    "\n",
    "# Extracting stations info for stations in Warsaw\n",
    "with open('json_files/2024-08-18to25-veturilo.json', 'r', encoding='utf8') as file:\n",
    "    for line in file:\n",
    "        data_piece = json.loads(line)\n",
    "        if data_piece['city_uid'] == 812:\n",
    "            timestamp = str(two_hours_forward(data_piece['timestamp']['$date'].replace('T', ' ')[:-1])).replace(':', '.')\n",
    "            if not timestamp in timestamp_dictionary.keys():\n",
    "                timestamp_dictionary[timestamp] = []\n",
    "            timestamp_dictionary[timestamp].append(data_piece)"
   ],
   "id": "73d1d1306b32640e",
   "outputs": [],
   "execution_count": 6
  },
  {
   "metadata": {
    "ExecuteTime": {
     "end_time": "2024-09-13T14:09:45.689943Z",
     "start_time": "2024-09-13T14:09:45.385504Z"
    }
   },
   "cell_type": "code",
   "source": [
    "data = {'monday': {},\n",
    "        'tuesday': {},\n",
    "        'wednesday': {},\n",
    "        'thursday': {},\n",
    "        'friday': {},\n",
    "        'saturday': {},\n",
    "        'sunday': {}}\n",
    "\n",
    "flag = True\n",
    "for timestamp in list(timestamp_dictionary.keys()):\n",
    "    freestanding = 0\n",
    "    weekday = get_weekday(timestamp)\n",
    "    time = extract_time(timestamp)\n",
    "    data[weekday][time] = []\n",
    "    for station in timestamp_dictionary[timestamp]:\n",
    "        if station['bike']:\n",
    "            if 52.2194 > station['lat'] > 52.2132 and 21.0272 > station['lng'] > 21.0258:\n",
    "                freestanding += 1\n",
    "    \n",
    "    data[weekday][time].append(freestanding)        \n",
    "    \n",
    "            "
   ],
   "id": "6aa70f597fd24806",
   "outputs": [],
   "execution_count": 9
  },
  {
   "metadata": {
    "ExecuteTime": {
     "end_time": "2024-09-13T14:10:26.582016Z",
     "start_time": "2024-09-13T14:10:26.357562Z"
    }
   },
   "cell_type": "code",
   "source": [
    "di1 = []\n",
    "di2 = []\n",
    "for key, value in data['monday'].items():\n",
    "    di1.append(key)\n",
    "    di2.append(sum(value)/len(value))\n",
    "    \n",
    "plt.plot(di1, di2)\n",
    "plt.title(\"Monday\")\n",
    "plt.xlabel(\"Time\")\n",
    "plt.ylabel(\"Freestanding bikes\")\n",
    "plt.tick_params(axis='x', labelrotation = 30)\n",
    "plt.gca().xaxis.set_major_locator(ticker.MaxNLocator(nbins=11))\n",
    "plt.show()"
   ],
   "id": "b74bc68cac16b837",
   "outputs": [
    {
     "data": {
      "text/plain": [
       "<Figure size 640x480 with 1 Axes>"
      ],
      "image/png": "[encoded data removed]"
     },
     "metadata": {},
     "output_type": "display_data"
    }
   ],
   "execution_count": 14
  },
  {
   "metadata": {
    "ExecuteTime": {
     "end_time": "2024-09-13T00:59:35.380494Z",
     "start_time": "2024-09-13T00:59:35.373841Z"
    }
   },
   "cell_type": "code",
   "source": "get_weekday('2024-08-19 00.50.00')",
   "id": "efbd8ab6105ad8b4",
   "outputs": [
    {
     "data": {
      "text/plain": [
       "'monday'"
      ]
     },
     "execution_count": 67,
     "metadata": {},
     "output_type": "execute_result"
    }
   ],
   "execution_count": 67
  },
  {
   "metadata": {
    "ExecuteTime": {
     "end_time": "2024-09-13T01:05:18.462816Z",
     "start_time": "2024-09-13T01:05:18.456490Z"
    }
   },
   "cell_type": "code",
   "source": "extract_time('2024-08-19 00.50.00')",
   "id": "475ce24067b898b9",
   "outputs": [
    {
     "data": {
      "text/plain": [
       "'00.50'"
      ]
     },
     "execution_count": 69,
     "metadata": {},
     "output_type": "execute_result"
    }
   ],
   "execution_count": 69
  },
  {
   "metadata": {},
   "cell_type": "code",
   "outputs": [],
   "execution_count": null,
   "source": "",
   "id": "e5aba55962063bcb"
  }
 ],
 "metadata": {
  "kernelspec": {
   "display_name": "Python 3",
   "language": "python",
   "name": "python3"
  },
  "language_info": {
   "codemirror_mode": {
    "name": "ipython",
    "version": 2
   },
   "file_extension": ".py",
   "mimetype": "text/x-python",
   "name": "python",
   "nbconvert_exporter": "python",
   "pygments_lexer": "ipython2",
   "version": "2.7.6"
  }
 },
 "nbformat": 4,
 "nbformat_minor": 5
}
