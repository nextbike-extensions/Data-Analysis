{
 "cells": [
  {
   "cell_type": "code",
   "id": "initial_id",
   "metadata": {
    "collapsed": true
   },
   "source": [
    "import json\n",
    "import folium\n",
    "from folium.plugins import HeatMap\n",
    "from PIL import Image\n",
    "from PIL import ImageDraw\n",
    "from PIL import ImageFont\n",
    "import io\n",
    "import os\n",
    "import imageio\n",
    "from nextbike_functions import *"
   ],
   "outputs": [],
   "execution_count": null
  },
  {
   "metadata": {
    "ExecuteTime": {
     "end_time": "2024-07-01T16:55:28.782316Z",
     "start_time": "2024-07-01T16:55:28.776715Z"
    }
   },
   "cell_type": "code",
   "source": [
    "def two_hours_forward(timestamp_string: str):\n",
    "    date, time = timestamp_string.split(' ')\n",
    "    year, month, day = date.split('-')\n",
    "    hour, minute, second = time.split(':')\n",
    "    date = datetime.datetime(int(year), int(month), int(day), int(hour), int(minute), int(second))\n",
    "    date += datetime.timedelta(hours=2)\n",
    "    return date"
   ],
   "id": "858c23353e90fcaa",
   "outputs": [],
   "execution_count": 3
  },
  {
   "metadata": {
    "ExecuteTime": {
     "end_time": "2024-07-01T16:55:29.443269Z",
     "start_time": "2024-07-01T16:55:29.438331Z"
    }
   },
   "cell_type": "code",
   "source": [
    "def five_minutes_back(timestamp_string: str):\n",
    "    date, time = timestamp_string.split(' ')\n",
    "    year, month, day = date.split('-')\n",
    "    hour, minute, second = time.split('.')\n",
    "    date = datetime.datetime(int(year), int(month), int(day), int(hour), int(minute), int(second))\n",
    "    date -= datetime.timedelta(minutes=5)\n",
    "    return date"
   ],
   "id": "10f7ed2891124e78",
   "outputs": [],
   "execution_count": 4
  },
  {
   "metadata": {
    "ExecuteTime": {
     "end_time": "2024-07-01T16:55:36.265562Z",
     "start_time": "2024-07-01T16:55:30.251808Z"
    }
   },
   "cell_type": "code",
   "source": [
    "data = []\n",
    "timestamp_dictionary = dict()\n",
    "filenames = []\n",
    "\n",
    "i = 0\n",
    "# Extracting stations info for stations in Warsaw\n",
    "with open('json_files/2024-06-29-veturilo.json', 'r', encoding='utf8') as file:\n",
    "    for line in file:\n",
    "        data_piece = json.loads(line)\n",
    "        if data_piece['city_uid'] == 812:\n",
    "            timestamp = str(two_hours_forward(data_piece['timestamp']['$date'].replace('T', ' ')[:-1])).replace(':', '.')\n",
    "            if not timestamp in timestamp_dictionary.keys():\n",
    "                timestamp_dictionary[timestamp] = []\n",
    "            timestamp_dictionary[timestamp].append(data_piece)"
   ],
   "id": "249e12097af11bfd",
   "outputs": [],
   "execution_count": 5
  },
  {
   "metadata": {
    "ExecuteTime": {
     "end_time": "2024-07-01T16:55:38.036305Z",
     "start_time": "2024-07-01T16:55:37.270710Z"
    }
   },
   "cell_type": "code",
   "source": [
    "freestanding_coordinates_data = {}\n",
    "abandonment_data = {}\n",
    "index = 0\n",
    "\n",
    "for timestamp, data in timestamp_dictionary.items():\n",
    "    freestanding_coordinates_data[timestamp] = []\n",
    "    abandonment_data[timestamp] = []\n",
    "    for station in data:\n",
    "        if station['bike']:\n",
    "            station['shortened_lat'] = round(float(station['lat']), 3)\n",
    "            station['shortened_lng'] = round(float(station['lng']), 3)\n",
    "            if index == 0:\n",
    "                abandonment_data[timestamp].append((station['bike_numbers'][0], station['lat'], station['lng']))\n",
    "            else:\n",
    "                abandonment_data[timestamp].append((station['bike_numbers'][0], station['lat'], station['lng']))\n",
    "            freestanding_coordinates_data[timestamp].append((station['lat'], station['lng']))\n",
    "    if index != 0:\n",
    "        abandonment_data[timestamp].extend(abandonment_data[list(abandonment_data.keys())[index - 1]])\n",
    "    index += 1\n",
    "    \n",
    "for key in abandonment_data.keys():\n",
    "    abandonment_data[key] = list(set(abandonment_data[key]))"
   ],
   "id": "fee9837a5a9d065",
   "outputs": [],
   "execution_count": 6
  },
  {
   "metadata": {
    "ExecuteTime": {
     "end_time": "2024-07-01T16:55:40.332677Z",
     "start_time": "2024-07-01T16:55:40.263029Z"
    }
   },
   "cell_type": "code",
   "source": [
    "non_disappearing_data = {}\n",
    "for key, value in abandonment_data.items():\n",
    "    non_disappearing_data[key] = []\n",
    "    for bike_number, lat, lng in value:\n",
    "        non_disappearing_data[key].append((lat, lng))"
   ],
   "id": "3e42cf8c70b9ffd2",
   "outputs": [],
   "execution_count": 7
  },
  {
   "metadata": {
    "ExecuteTime": {
     "end_time": "2024-07-02T16:09:00.292463Z",
     "start_time": "2024-07-02T16:08:59.967607Z"
    }
   },
   "cell_type": "code",
   "source": [
    "used_font = ImageFont.truetype('arial.ttf', 30)\n",
    "target_folder = 'heatmaps/'\n",
    "\n",
    "if not os.path.exists(target_folder):\n",
    "    os.mkdir(target_folder)\n",
    "\n",
    "for timestamp, freestanding_coordinates in non_disappearing_data.items():\n",
    "    m = folium.Map(location=[52.2265, 21.0196], zoom_start=14)\n",
    "    HeatMap(freestanding_coordinates).add_to(m)\n",
    "    filename = target_folder + timestamp + '.png'\n",
    "    img_data = m._to_png(0)\n",
    "    img = Image.open(io.BytesIO(img_data))\n",
    "    \n",
    "    I1 = ImageDraw.Draw(img)\n",
    "    I1.text((img.size[0]-350, img.size[1]-80), timestamp, font = used_font, fill = (0, 0, 0))\n",
    "    \n",
    "    img.save(filename)\n",
    "    filenames.append(filename)\n",
    "    print(os.path.basename(filename), \"done\")\n",
    "\n",
    "images = []\n",
    "for filename in filenames:\n",
    "    images.append(imageio.v2.imread(filename))\n",
    "imageio.mimsave('movie.gif', images)"
   ],
   "id": "6fd55b484fc1fecd",
   "outputs": [
    {
     "ename": "NameError",
     "evalue": "name 'ImageFont' is not defined",
     "output_type": "error",
     "traceback": [
      "\u001B[1;31m---------------------------------------------------------------------------\u001B[0m",
      "\u001B[1;31mNameError\u001B[0m                                 Traceback (most recent call last)",
      "Cell \u001B[1;32mIn[1], line 1\u001B[0m\n\u001B[1;32m----> 1\u001B[0m used_font \u001B[38;5;241m=\u001B[39m \u001B[43mImageFont\u001B[49m\u001B[38;5;241m.\u001B[39mtruetype(\u001B[38;5;124m'\u001B[39m\u001B[38;5;124marial.ttf\u001B[39m\u001B[38;5;124m'\u001B[39m, \u001B[38;5;241m30\u001B[39m)\n\u001B[0;32m      2\u001B[0m target_folder \u001B[38;5;241m=\u001B[39m \u001B[38;5;124m'\u001B[39m\u001B[38;5;124mheatmaps/\u001B[39m\u001B[38;5;124m'\u001B[39m\n\u001B[0;32m      4\u001B[0m \u001B[38;5;28;01mif\u001B[39;00m \u001B[38;5;129;01mnot\u001B[39;00m os\u001B[38;5;241m.\u001B[39mpath\u001B[38;5;241m.\u001B[39mexists(target_folder):\n",
      "\u001B[1;31mNameError\u001B[0m: name 'ImageFont' is not defined"
     ]
    }
   ],
   "execution_count": 1
  },
  {
   "metadata": {},
   "cell_type": "code",
   "outputs": [],
   "execution_count": null,
   "source": "",
   "id": "de8a747f19eaf97a"
  }
 ],
 "metadata": {
  "kernelspec": {
   "display_name": "Python 3",
   "language": "python",
   "name": "python3"
  },
  "language_info": {
   "codemirror_mode": {
    "name": "ipython",
    "version": 2
   },
   "file_extension": ".py",
   "mimetype": "text/x-python",
   "name": "python",
   "nbconvert_exporter": "python",
   "pygments_lexer": "ipython2",
   "version": "2.7.6"
  }
 },
 "nbformat": 4,
 "nbformat_minor": 5
}
